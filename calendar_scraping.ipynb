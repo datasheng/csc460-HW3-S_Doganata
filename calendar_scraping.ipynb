{
 "cells": [
  {
   "cell_type": "markdown",
   "metadata": {},
   "source": [
    "**Import Libraries**"
   ]
  },
  {
   "cell_type": "code",
   "execution_count": 24,
   "metadata": {},
   "outputs": [],
   "source": [
    "import requests\n",
    "from bs4 import BeautifulSoup\n",
    "import pandas as pd\n"
   ]
  },
  {
   "cell_type": "markdown",
   "metadata": {},
   "source": [
    "**Request the URL**"
   ]
  },
  {
   "cell_type": "code",
   "execution_count": 25,
   "metadata": {},
   "outputs": [],
   "source": [
    "url = \"https://www.ccny.cuny.edu/registrar/fall\"\n",
    "response = requests.get(url)\n",
    "if response.status_code == 200:\n",
    "    html_content = response.text\n",
    "else:\n",
    "    print(f\"Failed to retrieve the web page. Status code: {response.status_code}\")\n",
    "    exit()"
   ]
  },
  {
   "cell_type": "markdown",
   "metadata": {},
   "source": [
    "**Parse the HTML Data with BeautifulSoup**"
   ]
  },
  {
   "cell_type": "code",
   "execution_count": 26,
   "metadata": {},
   "outputs": [],
   "source": [
    "soup = BeautifulSoup(html_content, 'html.parser')"
   ]
  },
  {
   "cell_type": "markdown",
   "metadata": {},
   "source": [
    "**Locate all <td> tags that contain event information**"
   ]
  },
  {
   "cell_type": "code",
   "execution_count": 27,
   "metadata": {},
   "outputs": [],
   "source": [
    "td_tags = soup.find_all('td', style=\"width:617px\")\n",
    "events = []"
   ]
  },
  {
   "cell_type": "markdown",
   "metadata": {},
   "source": [
    "**Loop through each <td> and extract the relevant event details**"
   ]
  },
  {
   "cell_type": "code",
   "execution_count": 28,
   "metadata": {},
   "outputs": [],
   "source": [
    "for td in td_tags:\n",
    "    # Check if the <p> tag exists\n",
    "    p_tag = td.find('p')\n",
    "    if p_tag:\n",
    "        # Extract the event text from the <p> tag\n",
    "        event_text = p_tag.get_text(strip=True)\n",
    "        \n",
    "        # Find the previous <tr> (or relevant sibling element) to extract the corresponding date\n",
    "        tr_tag = td.find_previous('tr')\n",
    "        if tr_tag:\n",
    "            # Find the first <td> of the previous row to extract the date\n",
    "            date_tag = tr_tag.find_all('td')[0]  # The first <td> in the previous row should contain the date\n",
    "            if date_tag:\n",
    "                date_text = date_tag.get_text(strip=True)\n",
    "            else:\n",
    "                date_text = \"Date not found\"\n",
    "        else:\n",
    "            date_text = \"Date not found\"\n",
    "\n",
    "        # Append the event to the list without the day column\n",
    "        events.append({\n",
    "            'date': date_text,   # Store the actual date\n",
    "            'event': event_text  # Store the event description\n",
    "        })"
   ]
  },
  {
   "cell_type": "markdown",
   "metadata": {},
   "source": [
    "**Convert the list into a DataFrame**"
   ]
  },
  {
   "cell_type": "code",
   "execution_count": 29,
   "metadata": {},
   "outputs": [],
   "source": [
    "df = pd.DataFrame(events)\n"
   ]
  },
  {
   "cell_type": "markdown",
   "metadata": {},
   "source": [
    "**Save the DataFrame to a CSV file**"
   ]
  },
  {
   "cell_type": "code",
   "execution_count": 30,
   "metadata": {},
   "outputs": [
    {
     "name": "stdout",
     "output_type": "stream",
     "text": [
      "File saved to /Users/selmadoganata/classes/csc460/csc460/hw/hw_3/ccny_fall_2021_calendar.csv\n"
     ]
    }
   ],
   "source": [
    "save_path = '/Users/selmadoganata/classes/csc460/csc460/hw/hw_3/ccny_fall_2021_calendar.csv'\n",
    "df.to_csv(save_path, index=False)\n",
    "\n",
    "print(f\"File saved to {save_path}\")"
   ]
  }
 ],
 "metadata": {
  "kernelspec": {
   "display_name": "base",
   "language": "python",
   "name": "python3"
  },
  "language_info": {
   "codemirror_mode": {
    "name": "ipython",
    "version": 3
   },
   "file_extension": ".py",
   "mimetype": "text/x-python",
   "name": "python",
   "nbconvert_exporter": "python",
   "pygments_lexer": "ipython3",
   "version": "3.9.13"
  }
 },
 "nbformat": 4,
 "nbformat_minor": 2
}
